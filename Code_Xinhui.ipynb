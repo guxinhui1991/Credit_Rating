{
 "cells": [
  {
   "cell_type": "code",
   "execution_count": 1,
   "metadata": {},
   "outputs": [],
   "source": [
    "import pandas as pd\n",
    "import numpy as np\n",
    "import matplotlib.pyplot as plt\n",
    "import scipy.optimize as sco\n",
    "import cvxopt as opt  \n",
    "from scipy.optimize import minimize\n",
    "from math import sqrt"
   ]
  },
  {
   "cell_type": "code",
   "execution_count": 2,
   "metadata": {},
   "outputs": [],
   "source": [
    "data_table = pd.read_csv('Yield_Matrix.csv', index_col=0)\n",
    "num_bonds = 22\n"
   ]
  },
  {
   "cell_type": "code",
   "execution_count": 3,
   "metadata": {},
   "outputs": [],
   "source": [
    "trans_prob = np.matrix(data_table.iloc[:,:num_bonds])\n",
    "r = data_table['Yield Possible'].values\n",
    "e_r = np.squeeze(np.array(trans_prob.dot(r)))"
   ]
  },
  {
   "cell_type": "code",
   "execution_count": 4,
   "metadata": {},
   "outputs": [],
   "source": [
    "N = 100000\n",
    "w_all = np.matrix(np.zeros([N, num_bonds]))\n",
    "\n",
    "#for i in range(num_bonds-1):\n",
    "#    w_all[:, i] = np.matrix(np.random.rand(0, 1, N)).T\n",
    "#w_all[:, num_bonds-1] = 1 - w_all.sum(axis=1)"
   ]
  },
  {
   "cell_type": "code",
   "execution_count": 5,
   "metadata": {},
   "outputs": [],
   "source": [
    "def calc_cov(p_i_1, p_i_2, p_j_1, p_j_2, r1, r2, e_r1, e_r2):\n",
    "    v = p_i_1*p_j_1*(r1**2)\\\n",
    "        +p_i_2*p_j_1*(r2)*(r1)\\\n",
    "        +p_i_1*p_j_2*(r1)*(r2)\\\n",
    "        +p_i_2*p_j_2*(r2**2)\\\n",
    "        -e_r1*e_r2\n",
    "    return v"
   ]
  },
  {
   "cell_type": "code",
   "execution_count": 6,
   "metadata": {},
   "outputs": [],
   "source": [
    "var_cov = np.matrix(np.zeros([num_bonds, num_bonds]))\n",
    "for i in range(num_bonds):\n",
    "    for j in range(i, num_bonds):\n",
    "        p_i = trans_prob[i, i]/(trans_prob[i, i] + trans_prob[i, j])\n",
    "        p_j = trans_prob[j, i]/(trans_prob[j, i] + trans_prob[j, j])\n",
    "#        var_cov[i, j] = calc_cov(trans_prob[i, i], trans_prob[i, j], trans_prob[j, i], trans_prob[j,j], \n",
    "#                                r[i], r[j], e_r[i], e_r[j])\n",
    "        var_cov[i, j] = calc_cov(p_i, 1-p_i, p_j, 1-p_j, \n",
    "                                r[i], r[j], e_r[i], e_r[j])\n",
    "        var_cov[j, i] = var_cov[i, j]"
   ]
  },
  {
   "cell_type": "code",
   "execution_count": 7,
   "metadata": {},
   "outputs": [],
   "source": [
    "r_all = np.zeros(N)\n",
    "std_all=np.zeros(N)"
   ]
  },
  {
   "cell_type": "code",
   "execution_count": 8,
   "metadata": {},
   "outputs": [],
   "source": [
    "for i in range(N):\n",
    "    w = np.random.random(num_bonds)\n",
    "    w /= np.sum(w)\n",
    "\n",
    "    r_all[i] = w.dot(e_r)\n",
    "    std_all[i] = sqrt(w.dot(var_cov).dot(w.T))\n",
    "    "
   ]
  },
  {
   "cell_type": "code",
   "execution_count": 9,
   "metadata": {},
   "outputs": [
    {
     "data": {
      "text/plain": [
       "Text(0, 0.5, 'return')"
      ]
     },
     "execution_count": 9,
     "metadata": {},
     "output_type": "execute_result"
    },
    {
     "data": {
      "image/png": "[encoded data removed]",
      "text/plain": [
       "<Figure size 432x288 with 1 Axes>"
      ]
     },
     "metadata": {
      "needs_background": "light"
     },
     "output_type": "display_data"
    }
   ],
   "source": [
    "# Investment Universe\n",
    "plt.scatter(std_all, r_all)\n",
    "plt.xlabel('std')\n",
    "plt.ylabel('return')"
   ]
  },
  {
   "cell_type": "code",
   "execution_count": 10,
   "metadata": {
    "scrolled": false
   },
   "outputs": [
    {
     "name": "stdout",
     "output_type": "stream",
     "text": [
      " final_simplex: (array([[0.03314381, 0.02446048, 0.06617433, 0.01268752, 0.00250077,\n",
      "        0.03678679, 0.03274391, 0.07849253, 0.08308504, 0.07620311,\n",
      "        0.00846777, 0.073641  , 0.04912764, 0.06188877, 0.08796816,\n",
      "        0.0123287 , 0.00857703, 0.06497895, 0.06293204, 0.00868569,\n",
      "        0.07701741, 0.03810853],\n",
      "       [0.03314381, 0.02446048, 0.06617433, 0.01268752, 0.00250077,\n",
      "        0.03678679, 0.03274391, 0.07849253, 0.08308504, 0.07620311,\n",
      "        0.00846777, 0.073641  , 0.04912764, 0.06188877, 0.08796816,\n",
      "        0.0123287 , 0.00857703, 0.06497895, 0.06293204, 0.00868569,\n",
      "        0.07701741, 0.03810853],\n",
      "       [0.03314381, 0.02446048, 0.06617433, 0.01268752, 0.00250077,\n",
      "        0.03678679, 0.03274391, 0.07849253, 0.08308504, 0.07620311,\n",
      "        0.00846777, 0.073641  , 0.04912764, 0.06188877, 0.08796816,\n",
      "        0.0123287 , 0.00857703, 0.06497895, 0.06293204, 0.00868569,\n",
      "        0.07701741, 0.03810853],\n",
      "       [0.03314381, 0.02446048, 0.06617434, 0.01268752, 0.00250077,\n",
      "        0.03678679, 0.03274391, 0.07849253, 0.08308504, 0.07620311,\n",
      "        0.00846777, 0.073641  , 0.04912764, 0.06188877, 0.08796816,\n",
      "        0.0123287 , 0.00857703, 0.06497895, 0.06293204, 0.00868569,\n",
      "        0.07701741, 0.03810853],\n",
      "       [0.03314381, 0.02446048, 0.06617433, 0.01268753, 0.00250077,\n",
      "        0.03678679, 0.03274391, 0.07849253, 0.08308504, 0.07620311,\n",
      "        0.00846777, 0.073641  , 0.04912764, 0.06188877, 0.08796816,\n",
      "        0.0123287 , 0.00857703, 0.06497895, 0.06293204, 0.00868569,\n",
      "        0.07701741, 0.03810853],\n",
      "       [0.03314381, 0.02446048, 0.06617433, 0.01268752, 0.00250077,\n",
      "        0.03678679, 0.03274391, 0.07849253, 0.08308504, 0.07620311,\n",
      "        0.00846777, 0.073641  , 0.04912764, 0.06188877, 0.08796816,\n",
      "        0.0123287 , 0.00857703, 0.06497895, 0.06293204, 0.00868569,\n",
      "        0.07701741, 0.03810853],\n",
      "       [0.03314381, 0.02446048, 0.06617433, 0.01268752, 0.00250077,\n",
      "        0.0367868 , 0.03274391, 0.07849253, 0.08308504, 0.07620311,\n",
      "        0.00846777, 0.073641  , 0.04912764, 0.06188877, 0.08796816,\n",
      "        0.0123287 , 0.00857703, 0.06497895, 0.06293204, 0.00868569,\n",
      "        0.07701741, 0.03810853],\n",
      "       [0.03314381, 0.02446048, 0.06617433, 0.01268752, 0.00250077,\n",
      "        0.03678679, 0.03274391, 0.07849253, 0.08308504, 0.07620311,\n",
      "        0.00846777, 0.073641  , 0.04912764, 0.06188877, 0.08796816,\n",
      "        0.0123287 , 0.00857703, 0.06497895, 0.06293204, 0.00868569,\n",
      "        0.07701741, 0.03810853],\n",
      "       [0.03314381, 0.02446048, 0.06617433, 0.01268752, 0.00250077,\n",
      "        0.03678679, 0.03274391, 0.07849253, 0.08308504, 0.07620311,\n",
      "        0.00846777, 0.073641  , 0.04912764, 0.06188877, 0.08796816,\n",
      "        0.0123287 , 0.00857703, 0.06497895, 0.06293204, 0.00868569,\n",
      "        0.07701741, 0.03810853],\n",
      "       [0.03314381, 0.02446048, 0.06617433, 0.01268752, 0.00250077,\n",
      "        0.03678679, 0.03274391, 0.07849253, 0.08308505, 0.07620311,\n",
      "        0.00846777, 0.073641  , 0.04912764, 0.06188877, 0.08796816,\n",
      "        0.0123287 , 0.00857703, 0.06497895, 0.06293204, 0.00868569,\n",
      "        0.07701741, 0.03810853],\n",
      "       [0.03314381, 0.02446048, 0.06617433, 0.01268752, 0.00250077,\n",
      "        0.03678679, 0.03274391, 0.07849253, 0.08308504, 0.07620312,\n",
      "        0.00846777, 0.073641  , 0.04912764, 0.06188877, 0.08796816,\n",
      "        0.0123287 , 0.00857703, 0.06497895, 0.06293204, 0.00868569,\n",
      "        0.07701741, 0.03810853],\n",
      "       [0.03314381, 0.02446048, 0.06617433, 0.01268752, 0.00250077,\n",
      "        0.03678679, 0.03274391, 0.07849253, 0.08308504, 0.07620311,\n",
      "        0.00846777, 0.073641  , 0.04912764, 0.06188877, 0.08796816,\n",
      "        0.0123287 , 0.00857703, 0.06497895, 0.06293204, 0.00868569,\n",
      "        0.07701741, 0.03810853],\n",
      "       [0.03314381, 0.02446048, 0.06617433, 0.01268752, 0.00250077,\n",
      "        0.03678679, 0.03274391, 0.07849253, 0.08308504, 0.07620311,\n",
      "        0.00846777, 0.07364101, 0.04912764, 0.06188877, 0.08796816,\n",
      "        0.0123287 , 0.00857703, 0.06497895, 0.06293204, 0.00868569,\n",
      "        0.07701741, 0.03810853],\n",
      "       [0.03314381, 0.02446048, 0.06617433, 0.01268752, 0.00250077,\n",
      "        0.03678679, 0.03274391, 0.07849253, 0.08308504, 0.07620311,\n",
      "        0.00846777, 0.073641  , 0.04912765, 0.06188877, 0.08796816,\n",
      "        0.0123287 , 0.00857703, 0.06497895, 0.06293204, 0.00868569,\n",
      "        0.07701741, 0.03810853],\n",
      "       [0.03314381, 0.02446048, 0.06617433, 0.01268752, 0.00250077,\n",
      "        0.03678679, 0.03274391, 0.07849253, 0.08308504, 0.07620311,\n",
      "        0.00846777, 0.073641  , 0.04912764, 0.06188878, 0.08796816,\n",
      "        0.0123287 , 0.00857703, 0.06497895, 0.06293204, 0.00868569,\n",
      "        0.07701741, 0.03810853],\n",
      "       [0.03314381, 0.02446048, 0.06617433, 0.01268752, 0.00250077,\n",
      "        0.03678679, 0.03274391, 0.07849253, 0.08308504, 0.07620311,\n",
      "        0.00846777, 0.073641  , 0.04912764, 0.06188877, 0.08796817,\n",
      "        0.0123287 , 0.00857703, 0.06497895, 0.06293204, 0.00868569,\n",
      "        0.07701741, 0.03810853],\n",
      "       [0.03314381, 0.02446048, 0.06617433, 0.01268752, 0.00250077,\n",
      "        0.03678679, 0.03274391, 0.07849253, 0.08308504, 0.07620311,\n",
      "        0.00846777, 0.073641  , 0.04912764, 0.06188877, 0.08796816,\n",
      "        0.0123287 , 0.00857703, 0.06497895, 0.06293204, 0.00868569,\n",
      "        0.07701741, 0.03810853],\n",
      "       [0.03314381, 0.02446048, 0.06617433, 0.01268752, 0.00250077,\n",
      "        0.03678679, 0.03274391, 0.07849253, 0.08308504, 0.07620311,\n",
      "        0.00846777, 0.073641  , 0.04912764, 0.06188877, 0.08796816,\n",
      "        0.0123287 , 0.00857704, 0.06497895, 0.06293204, 0.00868569,\n",
      "        0.07701741, 0.03810853],\n",
      "       [0.03314381, 0.02446048, 0.06617433, 0.01268752, 0.00250077,\n",
      "        0.03678679, 0.03274391, 0.07849253, 0.08308504, 0.07620311,\n",
      "        0.00846777, 0.073641  , 0.04912764, 0.06188877, 0.08796816,\n",
      "        0.0123287 , 0.00857703, 0.06497895, 0.06293204, 0.00868569,\n",
      "        0.07701741, 0.03810853],\n",
      "       [0.03314381, 0.02446048, 0.06617433, 0.01268752, 0.00250077,\n",
      "        0.03678679, 0.03274391, 0.07849253, 0.08308504, 0.07620311,\n",
      "        0.00846777, 0.073641  , 0.04912764, 0.06188877, 0.08796816,\n",
      "        0.0123287 , 0.00857703, 0.06497895, 0.06293205, 0.00868569,\n",
      "        0.07701741, 0.03810853],\n",
      "       [0.03314381, 0.02446048, 0.06617433, 0.01268752, 0.00250077,\n",
      "        0.03678679, 0.03274391, 0.07849253, 0.08308504, 0.07620311,\n",
      "        0.00846777, 0.073641  , 0.04912764, 0.06188877, 0.08796816,\n",
      "        0.0123287 , 0.00857703, 0.06497895, 0.06293204, 0.00868569,\n",
      "        0.07701741, 0.03810853],\n",
      "       [0.03314381, 0.02446048, 0.06617433, 0.01268752, 0.00250077,\n",
      "        0.03678679, 0.03274391, 0.07849253, 0.08308504, 0.07620311,\n",
      "        0.00846777, 0.073641  , 0.04912764, 0.06188877, 0.08796816,\n",
      "        0.0123287 , 0.00857703, 0.06497895, 0.06293204, 0.00868569,\n",
      "        0.07701741, 0.03810853],\n",
      "       [0.03314381, 0.02446048, 0.06617433, 0.01268752, 0.00250077,\n",
      "        0.03678679, 0.03274391, 0.07849253, 0.08308504, 0.07620311,\n",
      "        0.00846777, 0.073641  , 0.04912764, 0.06188877, 0.08796816,\n",
      "        0.0123287 , 0.00857703, 0.06497895, 0.06293204, 0.00868569,\n",
      "        0.07701741, 0.03810853]]), array([-0.67903919, -0.67903919, -0.67903919, -0.67903919, -0.67903919,\n",
      "       -0.67903919, -0.67903919, -0.67903919, -0.67903919, -0.67903919,\n",
      "       -0.67903919, -0.67903919, -0.67903919, -0.67903919, -0.67903919,\n",
      "       -0.67903919, -0.67903919, -0.67903919, -0.67903919, -0.67903919,\n",
      "       -0.67903919, -0.67903919, -0.67903919]))\n",
      "           fun: -0.6790391901450701\n",
      "       message: 'Optimization terminated successfully.'\n",
      "          nfev: 479\n",
      "           nit: 20\n",
      "        status: 0\n",
      "       success: True\n",
      "             x: array([0.03314381, 0.02446048, 0.06617433, 0.01268752, 0.00250077,\n",
      "       0.03678679, 0.03274391, 0.07849253, 0.08308504, 0.07620311,\n",
      "       0.00846777, 0.073641  , 0.04912764, 0.06188877, 0.08796816,\n",
      "       0.0123287 , 0.00857703, 0.06497895, 0.06293204, 0.00868569,\n",
      "       0.07701741, 0.03810853])\n"
     ]
    },
    {
     "name": "stderr",
     "output_type": "stream",
     "text": [
      "/Users/xinhui/anaconda3/lib/python3.7/site-packages/scipy/optimize/_minimize.py:516: RuntimeWarning: Method Nelder-Mead cannot handle constraints nor bounds.\n",
      "  RuntimeWarning)\n"
     ]
    }
   ],
   "source": [
    "def calc_w(w, e_r, cov):\n",
    "    r_w = w.dot(e_r)\n",
    "    std_w = sqrt(w.dot(cov).dot(w.T))\n",
    "\n",
    "    \n",
    "    sharpe_ratio = r_w / std_w\n",
    "    return -sharpe_ratio\n",
    "\n",
    "constraints = ({'type': 'eq', 'fun': lambda x: np.sum(x) - 1},\n",
    "              {'type': 'eq', 'fun': lambda x: x.dot(e_r) - 0.0598})\n",
    "\n",
    "def optimize_w(e_r, cov, num_bonds):\n",
    "    res = minimize(lambda x:calc_w(w, e_r, cov), w, method='Nelder-Mead', constraints=constraints, tol=1e-8)\n",
    "    print (res)\n",
    "\n",
    "optimize_w(e_r, var_cov, num_bonds)"
   ]
  },
  {
   "cell_type": "code",
   "execution_count": 11,
   "metadata": {
    "scrolled": false
   },
   "outputs": [
    {
     "name": "stdout",
     "output_type": "stream",
     "text": [
      "     fun: -0.6790391901450701\n",
      "     jac: array([0., 0., 0., 0., 0., 0., 0., 0., 0., 0., 0., 0., 0., 0., 0., 0., 0.,\n",
      "       0., 0., 0., 0., 0.])\n",
      " message: 'Optimization terminated successfully.'\n",
      "    nfev: 25\n",
      "     nit: 1\n",
      "    njev: 1\n",
      "  status: 0\n",
      " success: True\n",
      "       x: array([0.03369647, 0.02501314, 0.06672699, 0.01324019, 0.00305343,\n",
      "       0.03733945, 0.03329657, 0.07904519, 0.08      , 0.07675577,\n",
      "       0.00902043, 0.07419366, 0.0496803 , 0.06244143, 0.08      ,\n",
      "       0.01288136, 0.00912969, 0.06553161, 0.0634847 , 0.00923835,\n",
      "       0.07757007, 0.03866119])\n"
     ]
    }
   ],
   "source": [
    "def calc_w(w, e_r, cov):\n",
    "    r_w = w.dot(e_r)\n",
    "    std_w = sqrt(w.dot(cov).dot(w.T))\n",
    "\n",
    "    \n",
    "    sharpe_ratio = r_w / std_w\n",
    "    return -sharpe_ratio\n",
    "\n",
    "constraints = ({'type': 'eq', 'fun': lambda x: np.sum(x) - 1})\n",
    "\n",
    "def optimize_w(e_r, cov, num_bonds):\n",
    "    constraints = ({'type': 'eq', 'fun': lambda x: np.sum(x) - 1})\n",
    "    bound = (0, 0.08)\n",
    "    bounds = tuple(bound for asset in range(num_bonds))\n",
    "    res = minimize(lambda x:calc_w(w, e_r, cov), w, method='SLSQP', constraints= constraints,\n",
    "                   bounds=bounds, tol=1e-8)\n",
    "    print (res)\n",
    "\n",
    "optimize_w(e_r, var_cov, num_bonds)"
   ]
  },
  {
   "cell_type": "code",
   "execution_count": null,
   "metadata": {},
   "outputs": [],
   "source": []
  }
 ],
 "metadata": {
  "kernelspec": {
   "display_name": "Python 3",
   "language": "python",
   "name": "python3"
  },
  "language_info": {
   "codemirror_mode": {
    "name": "ipython",
    "version": 3
   },
   "file_extension": ".py",
   "mimetype": "text/x-python",
   "name": "python",
   "nbconvert_exporter": "python",
   "pygments_lexer": "ipython3",
   "version": "3.7.3"
  }
 },
 "nbformat": 4,
 "nbformat_minor": 2
}
