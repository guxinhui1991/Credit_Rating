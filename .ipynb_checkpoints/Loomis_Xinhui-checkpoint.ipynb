{
 "cells": [
  {
   "cell_type": "code",
   "execution_count": 1,
   "metadata": {},
   "outputs": [],
   "source": [
    "import pandas as pd\n",
    "import numpy as np\n",
    "import matplotlib.pyplot as plt\n",
    "import scipy.optimize as sco\n",
    "import cvxopt as opt  \n",
    "from scipy.optimize import minimize\n",
    "from math import sqrt"
   ]
  },
  {
   "cell_type": "code",
   "execution_count": 2,
   "metadata": {},
   "outputs": [],
   "source": [
    "data_table = pd.read_csv('Yield_Matrix.csv', index_col=0)\n",
    "num_bonds = 22\n"
   ]
  },
  {
   "cell_type": "code",
   "execution_count": 3,
   "metadata": {},
   "outputs": [],
   "source": [
    "trans_prob = np.matrix(data_table.iloc[:,:num_bonds])\n",
    "r = data_table['Yield Possible'].values\n",
    "e_r = np.squeeze(np.array(trans_prob.dot(r)))"
   ]
  },
  {
   "cell_type": "code",
   "execution_count": 4,
   "metadata": {},
   "outputs": [],
   "source": [
    "N = 100000\n",
    "w_all = np.matrix(np.zeros([N, num_bonds]))\n",
    "\n",
    "#for i in range(num_bonds-1):\n",
    "#    w_all[:, i] = np.matrix(np.random.rand(0, 1, N)).T\n",
    "#w_all[:, num_bonds-1] = 1 - w_all.sum(axis=1)"
   ]
  },
  {
   "cell_type": "code",
   "execution_count": 5,
   "metadata": {},
   "outputs": [],
   "source": [
    "def calc_cov(p_i_1, p_i_2, p_j_1, p_j_2, r1, r2, e_r1, e_r2):\n",
    "    v = p_i_1*p_j_1*(r1**2)\\\n",
    "        +p_i_2*p_j_1*(r2)*(r1)\\\n",
    "        +p_i_1*p_j_2*(r1)*(r2)\\\n",
    "        +p_i_2*p_j_2*(r2**2)\\\n",
    "        -e_r1*e_r2\n",
    "    return v"
   ]
  },
  {
   "cell_type": "code",
   "execution_count": 6,
   "metadata": {},
   "outputs": [],
   "source": [
    "var_cov = np.matrix(np.zeros([num_bonds, num_bonds]))\n",
    "for i in range(num_bonds):\n",
    "    for j in range(i, num_bonds):\n",
    "        p_i = trans_prob[i, i]/(trans_prob[i, i] + trans_prob[i, j])\n",
    "        p_j = trans_prob[j, i]/(trans_prob[j, i] + trans_prob[j, j])\n",
    "#        var_cov[i, j] = calc_cov(trans_prob[i, i], trans_prob[i, j], trans_prob[j, i], trans_prob[j,j], \n",
    "#                                r[i], r[j], e_r[i], e_r[j])\n",
    "        var_cov[i, j] = calc_cov(p_i, 1-p_i, p_j, 1-p_j, \n",
    "                                r[i], r[j], e_r[i], e_r[j])\n",
    "        var_cov[j, i] = var_cov[i, j]"
   ]
  },
  {
   "cell_type": "code",
   "execution_count": 7,
   "metadata": {},
   "outputs": [],
   "source": [
    "r_all = np.zeros(N)\n",
    "std_all=np.zeros(N)"
   ]
  },
  {
   "cell_type": "code",
   "execution_count": 8,
   "metadata": {},
   "outputs": [],
   "source": [
    "for i in range(N):\n",
    "    w = np.random.random(num_bonds)\n",
    "    w /= np.sum(w)\n",
    "\n",
    "    r_all[i] = w.dot(e_r)\n",
    "    std_all[i] = sqrt(w.dot(var_cov).dot(w.T))\n",
    "    "
   ]
  },
  {
   "cell_type": "code",
   "execution_count": 9,
   "metadata": {},
   "outputs": [
    {
     "data": {
      "text/plain": [
       "Text(0, 0.5, 'return')"
      ]
     },
     "execution_count": 9,
     "metadata": {},
     "output_type": "execute_result"
    },
    {
     "data": {
      "image/png": "[encoded data removed]",
      "text/plain": [
       "<Figure size 432x288 with 1 Axes>"
      ]
     },
     "metadata": {
      "needs_background": "light"
     },
     "output_type": "display_data"
    }
   ],
   "source": [
    "# Investment Universe\n",
    "plt.scatter(std_all, r_all)\n",
    "plt.xlabel('std')\n",
    "plt.ylabel('return')"
   ]
  },
  {
   "cell_type": "code",
   "execution_count": 10,
   "metadata": {
    "scrolled": false
   },
   "outputs": [
    {
     "name": "stdout",
     "output_type": "stream",
     "text": [
      " final_simplex: (array([[0.05681311, 0.02668052, 0.07146874, 0.05571883, 0.04186814,\n",
      "        0.00944686, 0.02284054, 0.0674754 , 0.01840647, 0.08741124,\n",
      "        0.04012832, 0.08201577, 0.02443007, 0.07310956, 0.07041949,\n",
      "        0.01240251, 0.0640817 , 0.06332035, 0.07556999, 0.01678572,\n",
      "        0.01375221, 0.00585446],\n",
      "       [0.05681312, 0.02668052, 0.07146874, 0.05571883, 0.04186814,\n",
      "        0.00944686, 0.02284054, 0.0674754 , 0.01840647, 0.08741124,\n",
      "        0.04012832, 0.08201577, 0.02443007, 0.07310956, 0.07041949,\n",
      "        0.01240251, 0.0640817 , 0.06332035, 0.07556999, 0.01678572,\n",
      "        0.01375221, 0.00585446],\n",
      "       [0.05681311, 0.02668052, 0.07146874, 0.05571883, 0.04186814,\n",
      "        0.00944686, 0.02284054, 0.0674754 , 0.01840647, 0.08741124,\n",
      "        0.04012832, 0.08201577, 0.02443007, 0.07310956, 0.07041949,\n",
      "        0.01240251, 0.0640817 , 0.06332035, 0.07556999, 0.01678572,\n",
      "        0.01375221, 0.00585446],\n",
      "       [0.05681311, 0.02668052, 0.07146875, 0.05571883, 0.04186814,\n",
      "        0.00944686, 0.02284054, 0.0674754 , 0.01840647, 0.08741124,\n",
      "        0.04012832, 0.08201577, 0.02443007, 0.07310956, 0.07041949,\n",
      "        0.01240251, 0.0640817 , 0.06332035, 0.07556999, 0.01678572,\n",
      "        0.01375221, 0.00585446],\n",
      "       [0.05681311, 0.02668052, 0.07146874, 0.05571884, 0.04186814,\n",
      "        0.00944686, 0.02284054, 0.0674754 , 0.01840647, 0.08741124,\n",
      "        0.04012832, 0.08201577, 0.02443007, 0.07310956, 0.07041949,\n",
      "        0.01240251, 0.0640817 , 0.06332035, 0.07556999, 0.01678572,\n",
      "        0.01375221, 0.00585446],\n",
      "       [0.05681311, 0.02668052, 0.07146874, 0.05571883, 0.04186814,\n",
      "        0.00944686, 0.02284054, 0.0674754 , 0.01840647, 0.08741124,\n",
      "        0.04012832, 0.08201577, 0.02443007, 0.07310956, 0.07041949,\n",
      "        0.01240251, 0.0640817 , 0.06332035, 0.07556999, 0.01678572,\n",
      "        0.01375221, 0.00585446],\n",
      "       [0.05681311, 0.02668052, 0.07146874, 0.05571883, 0.04186814,\n",
      "        0.00944686, 0.02284054, 0.0674754 , 0.01840647, 0.08741124,\n",
      "        0.04012832, 0.08201577, 0.02443007, 0.07310956, 0.07041949,\n",
      "        0.01240251, 0.0640817 , 0.06332035, 0.07556999, 0.01678572,\n",
      "        0.01375221, 0.00585446],\n",
      "       [0.05681311, 0.02668052, 0.07146874, 0.05571883, 0.04186814,\n",
      "        0.00944686, 0.02284054, 0.0674754 , 0.01840647, 0.08741124,\n",
      "        0.04012832, 0.08201577, 0.02443007, 0.07310956, 0.07041949,\n",
      "        0.01240251, 0.0640817 , 0.06332035, 0.07556999, 0.01678572,\n",
      "        0.01375221, 0.00585446],\n",
      "       [0.05681311, 0.02668052, 0.07146874, 0.05571883, 0.04186814,\n",
      "        0.00944686, 0.02284054, 0.06747541, 0.01840647, 0.08741124,\n",
      "        0.04012832, 0.08201577, 0.02443007, 0.07310956, 0.07041949,\n",
      "        0.01240251, 0.0640817 , 0.06332035, 0.07556999, 0.01678572,\n",
      "        0.01375221, 0.00585446],\n",
      "       [0.05681311, 0.02668052, 0.07146874, 0.05571883, 0.04186814,\n",
      "        0.00944686, 0.02284054, 0.0674754 , 0.01840647, 0.08741124,\n",
      "        0.04012832, 0.08201577, 0.02443007, 0.07310956, 0.07041949,\n",
      "        0.01240251, 0.0640817 , 0.06332035, 0.07556999, 0.01678572,\n",
      "        0.01375221, 0.00585446],\n",
      "       [0.05681311, 0.02668052, 0.07146874, 0.05571883, 0.04186814,\n",
      "        0.00944686, 0.02284054, 0.0674754 , 0.01840647, 0.08741125,\n",
      "        0.04012832, 0.08201577, 0.02443007, 0.07310956, 0.07041949,\n",
      "        0.01240251, 0.0640817 , 0.06332035, 0.07556999, 0.01678572,\n",
      "        0.01375221, 0.00585446],\n",
      "       [0.05681311, 0.02668052, 0.07146874, 0.05571883, 0.04186814,\n",
      "        0.00944686, 0.02284054, 0.0674754 , 0.01840647, 0.08741124,\n",
      "        0.04012833, 0.08201577, 0.02443007, 0.07310956, 0.07041949,\n",
      "        0.01240251, 0.0640817 , 0.06332035, 0.07556999, 0.01678572,\n",
      "        0.01375221, 0.00585446],\n",
      "       [0.05681311, 0.02668052, 0.07146874, 0.05571883, 0.04186814,\n",
      "        0.00944686, 0.02284054, 0.0674754 , 0.01840647, 0.08741124,\n",
      "        0.04012832, 0.08201577, 0.02443007, 0.07310956, 0.07041949,\n",
      "        0.01240251, 0.0640817 , 0.06332035, 0.07556999, 0.01678572,\n",
      "        0.01375221, 0.00585446],\n",
      "       [0.05681311, 0.02668052, 0.07146874, 0.05571883, 0.04186814,\n",
      "        0.00944686, 0.02284054, 0.0674754 , 0.01840647, 0.08741124,\n",
      "        0.04012832, 0.08201577, 0.02443008, 0.07310956, 0.07041949,\n",
      "        0.01240251, 0.0640817 , 0.06332035, 0.07556999, 0.01678572,\n",
      "        0.01375221, 0.00585446],\n",
      "       [0.05681311, 0.02668052, 0.07146874, 0.05571883, 0.04186814,\n",
      "        0.00944686, 0.02284054, 0.0674754 , 0.01840647, 0.08741124,\n",
      "        0.04012832, 0.08201577, 0.02443007, 0.07310956, 0.07041949,\n",
      "        0.01240251, 0.0640817 , 0.06332035, 0.07556999, 0.01678572,\n",
      "        0.01375221, 0.00585446],\n",
      "       [0.05681311, 0.02668052, 0.07146874, 0.05571883, 0.04186814,\n",
      "        0.00944686, 0.02284054, 0.0674754 , 0.01840647, 0.08741124,\n",
      "        0.04012832, 0.08201577, 0.02443007, 0.07310956, 0.0704195 ,\n",
      "        0.01240251, 0.0640817 , 0.06332035, 0.07556999, 0.01678572,\n",
      "        0.01375221, 0.00585446],\n",
      "       [0.05681311, 0.02668052, 0.07146874, 0.05571883, 0.04186814,\n",
      "        0.00944686, 0.02284054, 0.0674754 , 0.01840647, 0.08741124,\n",
      "        0.04012832, 0.08201577, 0.02443007, 0.07310956, 0.07041949,\n",
      "        0.01240251, 0.0640817 , 0.06332035, 0.07556999, 0.01678572,\n",
      "        0.01375221, 0.00585446],\n",
      "       [0.05681311, 0.02668052, 0.07146874, 0.05571883, 0.04186814,\n",
      "        0.00944686, 0.02284054, 0.0674754 , 0.01840647, 0.08741124,\n",
      "        0.04012832, 0.08201577, 0.02443007, 0.07310956, 0.07041949,\n",
      "        0.01240251, 0.0640817 , 0.06332035, 0.07556999, 0.01678572,\n",
      "        0.01375221, 0.00585446],\n",
      "       [0.05681311, 0.02668052, 0.07146874, 0.05571883, 0.04186814,\n",
      "        0.00944686, 0.02284054, 0.0674754 , 0.01840647, 0.08741124,\n",
      "        0.04012832, 0.08201577, 0.02443007, 0.07310956, 0.07041949,\n",
      "        0.01240251, 0.0640817 , 0.06332036, 0.07556999, 0.01678572,\n",
      "        0.01375221, 0.00585446],\n",
      "       [0.05681311, 0.02668052, 0.07146874, 0.05571883, 0.04186814,\n",
      "        0.00944686, 0.02284054, 0.0674754 , 0.01840647, 0.08741124,\n",
      "        0.04012832, 0.08201577, 0.02443007, 0.07310956, 0.07041949,\n",
      "        0.01240251, 0.0640817 , 0.06332035, 0.07557   , 0.01678572,\n",
      "        0.01375221, 0.00585446],\n",
      "       [0.05681311, 0.02668052, 0.07146874, 0.05571883, 0.04186814,\n",
      "        0.00944686, 0.02284054, 0.0674754 , 0.01840647, 0.08741124,\n",
      "        0.04012832, 0.08201577, 0.02443007, 0.07310956, 0.07041949,\n",
      "        0.01240251, 0.0640817 , 0.06332035, 0.07556999, 0.01678572,\n",
      "        0.01375221, 0.00585446],\n",
      "       [0.05681311, 0.02668052, 0.07146874, 0.05571883, 0.04186814,\n",
      "        0.00944686, 0.02284054, 0.0674754 , 0.01840647, 0.08741124,\n",
      "        0.04012832, 0.08201577, 0.02443007, 0.07310956, 0.07041949,\n",
      "        0.01240251, 0.0640817 , 0.06332035, 0.07556999, 0.01678572,\n",
      "        0.01375221, 0.00585446],\n",
      "       [0.05681311, 0.02668052, 0.07146874, 0.05571883, 0.04186814,\n",
      "        0.00944686, 0.02284054, 0.0674754 , 0.01840647, 0.08741124,\n",
      "        0.04012832, 0.08201577, 0.02443007, 0.07310956, 0.07041949,\n",
      "        0.01240251, 0.0640817 , 0.06332035, 0.07556999, 0.01678572,\n",
      "        0.01375221, 0.00585446]]), array([-0.73882286, -0.73882286, -0.73882286, -0.73882286, -0.73882286,\n",
      "       -0.73882286, -0.73882286, -0.73882286, -0.73882286, -0.73882286,\n",
      "       -0.73882286, -0.73882286, -0.73882286, -0.73882286, -0.73882286,\n",
      "       -0.73882286, -0.73882286, -0.73882286, -0.73882286, -0.73882286,\n",
      "       -0.73882286, -0.73882286, -0.73882286]))\n",
      "           fun: -0.738822858140153\n",
      "       message: 'Optimization terminated successfully.'\n",
      "          nfev: 479\n",
      "           nit: 20\n",
      "        status: 0\n",
      "       success: True\n",
      "             x: array([0.05681311, 0.02668052, 0.07146874, 0.05571883, 0.04186814,\n",
      "       0.00944686, 0.02284054, 0.0674754 , 0.01840647, 0.08741124,\n",
      "       0.04012832, 0.08201577, 0.02443007, 0.07310956, 0.07041949,\n",
      "       0.01240251, 0.0640817 , 0.06332035, 0.07556999, 0.01678572,\n",
      "       0.01375221, 0.00585446])\n"
     ]
    }
   ],
   "source": [
    "def calc_w(w, e_r, cov):\n",
    "    r_w = w.dot(e_r)\n",
    "    std_w = sqrt(w.dot(cov).dot(w.T))\n",
    "\n",
    "    \n",
    "    sharpe_ratio = r_w / std_w\n",
    "    return -sharpe_ratio\n",
    "\n",
    "constraints = ({'type': 'eq', 'fun': lambda x: np.sum(x) - 1})\n",
    "\n",
    "def optimize_w(e_r, cov, num_bonds):\n",
    "    res = minimize(lambda x:calc_w(w, e_r, cov), w, method='Nelder-Mead', tol=1e-8)\n",
    "    print (res)\n",
    "\n",
    "optimize_w(e_r, var_cov, num_bonds)"
   ]
  },
  {
   "cell_type": "code",
   "execution_count": 11,
   "metadata": {
    "scrolled": false
   },
   "outputs": [
    {
     "name": "stdout",
     "output_type": "stream",
     "text": [
      "     fun: -0.738822858140153\n",
      "     jac: array([0., 0., 0., 0., 0., 0., 0., 0., 0., 0., 0., 0., 0., 0., 0., 0., 0.,\n",
      "       0., 0., 0., 0., 0.])\n",
      " message: 'Optimization terminated successfully.'\n",
      "    nfev: 25\n",
      "     nit: 1\n",
      "    njev: 1\n",
      "  status: 0\n",
      " success: True\n",
      "       x: array([0.05728446, 0.02715187, 0.07194009, 0.05619018, 0.04233949,\n",
      "       0.00991821, 0.02331189, 0.06794675, 0.01887782, 0.08      ,\n",
      "       0.04059968, 0.08      , 0.02490142, 0.07358091, 0.07089084,\n",
      "       0.01287386, 0.06455305, 0.0637917 , 0.07604134, 0.01725707,\n",
      "       0.01422356, 0.00632581])\n"
     ]
    }
   ],
   "source": [
    "def calc_w(w, e_r, cov):\n",
    "    r_w = w.dot(e_r)\n",
    "    std_w = sqrt(w.dot(cov).dot(w.T))\n",
    "\n",
    "    \n",
    "    sharpe_ratio = r_w / std_w\n",
    "    return -sharpe_ratio\n",
    "\n",
    "constraints = ({'type': 'eq', 'fun': lambda x: np.sum(x) - 1})\n",
    "\n",
    "def optimize_w(e_r, cov, num_bonds):\n",
    "    constraints = ({'type': 'eq', 'fun': lambda x: np.sum(x) - 1})\n",
    "    bound = (0, 0.08)\n",
    "    bounds = tuple(bound for asset in range(num_bonds))\n",
    "    res = minimize(lambda x:calc_w(w, e_r, cov), w, method='SLSQP', constraints= constraints,\n",
    "                   bounds=bounds, tol=1e-8)\n",
    "    print (res)\n",
    "\n",
    "optimize_w(e_r, var_cov, num_bonds)"
   ]
  },
  {
   "cell_type": "code",
   "execution_count": null,
   "metadata": {},
   "outputs": [],
   "source": []
  }
 ],
 "metadata": {
  "kernelspec": {
   "display_name": "Python 3",
   "language": "python",
   "name": "python3"
  },
  "language_info": {
   "codemirror_mode": {
    "name": "ipython",
    "version": 3
   },
   "file_extension": ".py",
   "mimetype": "text/x-python",
   "name": "python",
   "nbconvert_exporter": "python",
   "pygments_lexer": "ipython3",
   "version": "3.7.3"
  }
 },
 "nbformat": 4,
 "nbformat_minor": 2
}
